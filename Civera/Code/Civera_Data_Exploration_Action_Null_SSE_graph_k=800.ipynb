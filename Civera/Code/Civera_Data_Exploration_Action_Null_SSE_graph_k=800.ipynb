{
 "cells": [
  {
   "cell_type": "code",
   "execution_count": 1,
   "metadata": {},
   "outputs": [],
   "source": [
    "import pandas as pd\n",
    "import numpy as np\n",
    "from sklearn.cluster import KMeans\n",
    "from sklearn.feature_extraction.text import TfidfVectorizer\n",
    "from sklearn.feature_extraction.text import TfidfTransformer\n",
    "import matplotlib.pyplot as plt\n",
    "%matplotlib inline"
   ]
  },
  {
   "cell_type": "code",
   "execution_count": 2,
   "metadata": {},
   "outputs": [
    {
     "data": {
      "text/plain": [
       "0       NOTICE:  Citation on Petition for Formal Adjud...\n",
       "1                       Citation Filed; Served as Ordered\n",
       "2       An Interested Person,Johanna Soris, Asst. Atto...\n",
       "3        Letters of Authority for Personal Representative\n",
       "4       NOTICE:  Citation on Petition for Formal Adjud...\n",
       "                              ...                        \n",
       "9995    MAGISTRATE TRIAL IN PROGRESS SCHEDULED TO CONT...\n",
       "9996    Magistrate trial held ( Sargent, Dennis ) (Tap...\n",
       "9997                      Will dated 1/27/87  --  3 pages\n",
       "9998           Misc Entry: Letter filed by the defendant.\n",
       "9999                  Appearance for  filed by Attorney .\n",
       "Name: 2, Length: 10000, dtype: object"
      ]
     },
     "execution_count": 2,
     "metadata": {},
     "output_type": "execute_result"
    }
   ],
   "source": [
    "df_desc_null_actions = pd.read_csv(\"df_null_action.csv\", nrows=10000)\n",
    "df_desc_null_actions['2']"
   ]
  },
  {
   "cell_type": "code",
   "execution_count": 3,
   "metadata": {},
   "outputs": [],
   "source": [
    "# Vectorize the descriptions.\n",
    "tfidf = TfidfVectorizer(min_df=5, ngram_range=(1,3))\n",
    "\n",
    "# features = tfidf.fit_transform(dataset['0'].astype('U'))\n",
    "description_mia_vectorized = tfidf.fit_transform(df_desc_null_actions['2'].astype('U'))"
   ]
  },
  {
   "cell_type": "code",
   "execution_count": 4,
   "metadata": {},
   "outputs": [
    {
     "data": {
      "text/plain": [
       "<10000x8354 sparse matrix of type '<class 'numpy.float64'>'\n",
       "\twith 216411 stored elements in Compressed Sparse Row format>"
      ]
     },
     "execution_count": 4,
     "metadata": {},
     "output_type": "execute_result"
    }
   ],
   "source": [
    "description_mia_vectorized"
   ]
  },
  {
   "cell_type": "code",
   "execution_count": 7,
   "metadata": {},
   "outputs": [],
   "source": [
    "# Create a kmeans model on our data, using k clusters. Compile a list of SSEs for each k.\n",
    "\n",
    "k_list = []\n",
    "SSE_list = []\n",
    "\n",
    "number_clusters = range(500,800)\n",
    "\n",
    "for i in number_clusters:\n",
    "    kmeans_model = KMeans(algorithm='auto', copy_x=True, init='k-means++', max_iter=300,\n",
    "                         n_clusters=i, n_init=10, random_state=None, tol=0.0001, verbose=0).fit(description_mia_vectorized)\n",
    "    SSE = kmeans_model.inertia_\n",
    "    SSE_list.append(SSE)\n",
    "    k_list.append(i)"
   ]
  },
  {
   "cell_type": "code",
   "execution_count": 8,
   "metadata": {},
   "outputs": [
    {
     "data": {
      "text/plain": [
       "Text(0, 0.5, '$SSE$')"
      ]
     },
     "execution_count": 8,
     "metadata": {},
     "output_type": "execute_result"
    },
    {
     "data": {
      "image/png": "[encoded data removed]",
      "text/plain": [
       "<Figure size 432x288 with 1 Axes>"
      ]
     },
     "metadata": {
      "needs_background": "light"
     },
     "output_type": "display_data"
    }
   ],
   "source": [
    "# Plot the results\n",
    "fig = plt.figure()\n",
    "ax1 = fig.add_subplot(121)\n",
    "ax1.plot(k_list, SSE_list)\n",
    "ax1.set_xlabel('$No. of Clusters$')\n",
    "ax1.set_ylabel('$SSE$')"
   ]
  }
 ],
 "metadata": {
  "kernelspec": {
   "display_name": "Python 3",
   "language": "python",
   "name": "python3"
  },
  "language_info": {
   "codemirror_mode": {
    "name": "ipython",
    "version": 3
   },
   "file_extension": ".py",
   "mimetype": "text/x-python",
   "name": "python",
   "nbconvert_exporter": "python",
   "pygments_lexer": "ipython3",
   "version": "3.7.7"
  }
 },
 "nbformat": 4,
 "nbformat_minor": 4
}
